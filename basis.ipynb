{
 "cells": [
  {
   "cell_type": "markdown",
   "metadata": {},
   "source": [
    "## Imports\n"
   ]
  },
  {
   "cell_type": "code",
   "execution_count": 98,
   "metadata": {},
   "outputs": [],
   "source": [
    "import sys\n",
    "import numpy as np\n",
    "import matplotlib.pyplot as plt\n",
    "import torch\n",
    "from torchvision import datasets, transforms\n",
    "from torch.utils.data import random_split\n",
    "\n",
    "import torch.nn as nn\n",
    "import torch.nn.functional as F\n",
    "\n",
    "import torch.optim as optim\n",
    "\n",
    "import os\n",
    "import time\n",
    "\n",
    "from sklearn.metrics import precision_score, recall_score, f1_score\n",
    "\n",
    "import pandas as pd\n",
    "import csv"
   ]
  },
  {
   "cell_type": "markdown",
   "metadata": {},
   "source": [
    "## Setup"
   ]
  },
  {
   "cell_type": "markdown",
   "metadata": {},
   "source": [
    "<font size=\"6\">Number of Epochs:</font> <br>\n",
    "<font size=\"5\">Variable: <font color=\"cyan\">num_epochs</font></font>  <br>\n",
    "<font color=\"orange\">Description: </font> \n",
    " This represents the total number of passes through the entire training dataset. <br>\n",
    " This value dictates how many times the network will see the entire dataset.\n",
    "\n",
    "<font size=\"6\">Learning Rate:</font> <br>\n",
    "<font size=\"5\">Variable: <font color=\"cyan\">learning_rate</font></font>  <br>\n",
    "<font color=\"orange\">Description: </font> <br>\n",
    "This controls the step size at each iteration while moving toward a minimum of a loss function. <br>\n",
    "This parameter affects how quickly or slowly a neural network model learns.\n",
    "\n",
    "<font size=\"6\">Batch Size: </font> <br>\n",
    "<font size=\"5\">Variable: <font color=\"cyan\">batch_size</font></font>  <br>\n",
    "<font color=\"orange\">Description: </font> <br>\n",
    "This determines the number of samples that will be propagated through the network at once.\n",
    "\n",
    "<font size=\"6\">Optimizer: </font> <br>\n",
    "<font size=\"5\">Variable: <font color=\"cyan\">optimizer</font></font>  <br>\n",
    "<font color=\"orange\">Description: </font> <br>\n",
    "This is the algorithm used to update the weights of the network.\n",
    "\n",
    "<font size=\"6\">Loss Function: </font> <br>\n",
    "<font size=\"5\">Variable: <font color=\"cyan\">loss_type</font></font>  <br>\n",
    "<font color=\"orange\">Description: </font> <br>\n",
    "This measures the difference between the output of the neural network and the actual target values.\n",
    "\n",
    "<font size=\"6\">Input Channels: </font> <br>\n",
    "<font size=\"5\">Variable: <font color=\"cyan\">input_channels</font></font>  <br>\n",
    "<font color=\"orange\">Description: </font> <br>\n",
    "In the SimpleCNN class, this determines the number of channels in the input images that the network is designed to process. \n",
    "\n",
    "<font size=\"6\">Convolutional Filters: </font> <br>\n",
    "<font size=\"5\">Variable: <font color=\"cyan\">conv_filters</font></font>  <br>\n",
    "<font color=\"orange\">Description: </font> <br>\n",
    "In the SimpleCNN class, this represents the number of output channels in the convolutional layers.\n",
    "\n",
    "<font size=\"6\">Kernel Size: </font> <br>\n",
    "<font size=\"5\">Variable: <font color=\"cyan\">kernel_size</font></font>  <br>\n",
    "<font color=\"orange\">Description: </font> <br>\n",
    "In the SimpleCNN class, this specifies the size of the window that will slide over the input data.\n",
    "\n",
    "<font size=\"6\">Fully Connected (FC) Neurons: </font> <br>\n",
    "<font size=\"5\">Variable: <font color=\"cyan\">fc_neurons</font></font>  <br>\n",
    "<font color=\"orange\">Description: </font> <br>\n",
    "In the SimpleCNN class, this determines the number of neurons in the fully connected layers.\n",
    "\n",
    "<font size=\"6\">Output Classes: </font> <br>\n",
    "<font size=\"5\">Variable: <font color=\"cyan\">output_classes</font></font>  <br>\n",
    "<font color=\"orange\">Description: </font> <br>\n",
    " In the SimpleCNN class, this represents the number of different classes the model can predict. <br>\n",
    " For MNIST, this is set to 10, corresponding to the digits 0 through 9."
   ]
  },
  {
   "cell_type": "markdown",
   "metadata": {},
   "source": [
    "<font size=\"8\">Set variables</font> <br>\n",
    "<font size=\"6\">Starting conditions</font> <br>"
   ]
  },
  {
   "cell_type": "markdown",
   "metadata": {},
   "source": [
    "<font size=\"6\">[<font color=\"orange\">Miscellaneous</font>]</font> <br>\n",
    "<font color=\"cyan\">Default values</font> <br>\n",
    "num_epochs = 1 <br>\n",
    "learning_rate = 0.001 <br>\n",
    "batch_size = 64 <br>\n",
    "optimizer_type = 'Adam' <br>\n",
    "loss_type = nn.CrossEntropyLoss() <br>"
   ]
  },
  {
   "cell_type": "code",
   "execution_count": 99,
   "metadata": {},
   "outputs": [],
   "source": [
    "num_epochs = 1\n",
    "learning_rate = 0.001\n",
    "batch_size = 64\n",
    "optimizer_type = 'Adam'\n",
    "loss_type = nn.CrossEntropyLoss()"
   ]
  },
  {
   "cell_type": "markdown",
   "metadata": {},
   "source": [
    "<font size=\"6\">[<font color=\"olive\">SimpleCNN arguments</font>]</font> <br>\n",
    "<font color=\"cyan\">Default values</font> <br>\n",
    "input_channels=1 <br>\n",
    "conv_filters=16 <br>\n",
    "kernel_size=3 <br>\n",
    "fc_neurons=64 <br>\n",
    "output_classes=10 "
   ]
  },
  {
   "cell_type": "code",
   "execution_count": 100,
   "metadata": {},
   "outputs": [],
   "source": [
    "input_channels=1\n",
    "conv_filters=16\n",
    "kernel_size=3\n",
    "fc_neurons=64\n",
    "output_classes=10"
   ]
  },
  {
   "cell_type": "markdown",
   "metadata": {},
   "source": [
    "<font size=\"6\">Continuous training </font> <br>\n",
    "\n",
    "Due to high modification possibilities every unique training model will generate its own <font color=\"cyan\">checkpoint</font> for continuous training.<br> This means that the model can be altered with without losing old training values and progression. <br>\n",
    "\n",
    "A run with the default values will generate a checkpoint in the <font color=\"orange\">models</font> folder file with the name: <br>\n",
    "<font color=\"orange\">model_epochs1_lr0.001_batch64_optimAdam_channels1_filters16_kernel3_fc64_classes10.pth</font></font>\n",
    "\n",
    "If mixed training is to be enabled, change the mixed_training variable to <font color=\"lime\">True</font> <br> <br>\n",
    "The checkpoint file will then have the name: <font color=\"orange\">model_mixed.pth</font> <br>\n",
    "\n",
    "Each run will also save statistics to a csv file in the <font color=\"cyah\">metrics</font> folder with the name:<br>\n",
    "<font color=\"cyah\">metric_epochs1_lr0.001_batch64_optimAdam_channels1_filters16_kernel3_fc64_classes10.csv</font>\n",
    "or <font color=\"cyah\">metric_mixed.csv</font> <br>\n"
   ]
  },
  {
   "cell_type": "code",
   "execution_count": 101,
   "metadata": {},
   "outputs": [],
   "source": [
    "mixed_training = False\n",
    "\n",
    "if mixed_training:\n",
    "    model_specifics =  f\"_mixed\"\n",
    "\n",
    "else:\n",
    "    model_specifics =   f\"_epochs{num_epochs}\" + \\\n",
    "                        f\"_lr{learning_rate}\" + \\\n",
    "                        f\"_batch{batch_size}\" + \\\n",
    "                        f\"_optim{optimizer_type}\" + \\\n",
    "                        f\"_channels{input_channels}\" + \\\n",
    "                        f\"_filters{conv_filters}\" + \\\n",
    "                        f\"_kernel{kernel_size}\" + \\\n",
    "                        f\"_fc{fc_neurons}\" + \\\n",
    "                        f\"_classes{output_classes}\"\n",
    "\n",
    "checkpoint_path = f\"./models/model{model_specifics}.pth\"\n",
    "metrics_csv_path = f\"./metrics/metric{model_specifics}.csv\"\n",
    "\n",
    "# Check if the model directory exists, create it if it doesn't\n",
    "if not os.path.exists('./models'):\n",
    "    os.makedirs('./models')\n",
    "if not os.path.exists('./metrics'):\n",
    "    os.makedirs('./metrics')"
   ]
  },
  {
   "cell_type": "markdown",
   "metadata": {},
   "source": [
    "## Downloading and preparing the MNIST dataset"
   ]
  },
  {
   "cell_type": "code",
   "execution_count": 102,
   "metadata": {},
   "outputs": [],
   "source": [
    "# Define a transformation to normalize the data\n",
    "transform = transforms.Compose([\n",
    "    transforms.ToTensor(),  # Convert images to PyTorch tensors\n",
    "    transforms.Normalize((0.5,), (0.5,))  # Normalize the images\n",
    "])\n",
    "try:\n",
    "    # Download and prepare the MNIST training dataset\n",
    "    trainset = datasets.MNIST(root='./data', train=True, download=True, transform=transform)\n",
    "\n",
    "    # Download and prepare the MNIST test dataset\n",
    "    testset = datasets.MNIST(root='./data', train=False, download=True, transform=transform)\n",
    "\n",
    "    # Define the size of the validation set\n",
    "    val_size = int(len(trainset) * 0.2)  # 20% for validation\n",
    "    train_size = len(trainset) - val_size  # 80% for training\n",
    "\n",
    "    # Split the dataset\n",
    "    train_dataset, val_dataset = random_split(trainset, [train_size, val_size])\n",
    "\n",
    "except IOError as e:\n",
    "    print(f\"An IOError occurred: {e.strerror}\")\n",
    "    sys.exit(1)\n",
    "except Exception as e:\n",
    "    print(f\"An unexpected error occurred: {e}\")\n",
    "    sys.exit(1)\n",
    "\n",
    "# Create DataLoaders for the training, validation and test sets\n",
    "train_loader = torch.utils.data.DataLoader(train_dataset, batch_size=batch_size, shuffle=True)\n",
    "val_loader = torch.utils.data.DataLoader(val_dataset, batch_size=batch_size, shuffle=False)\n",
    "testloader = torch.utils.data.DataLoader(testset, batch_size, shuffle=False)"
   ]
  },
  {
   "cell_type": "markdown",
   "metadata": {},
   "source": [
    "Some code snippets starts with 'execute_this_cell = False' <br>\n",
    "In this state the snippet is deactivated. To activate, simply change <font color=\"red\">False</font> to <font color=\"lime\">True</font> <br>\n",
    "No such snippet will effect performance, only visualization."
   ]
  },
  {
   "cell_type": "markdown",
   "metadata": {},
   "source": [
    "<font size=\"6\">Function to visualize a batch of images</font>"
   ]
  },
  {
   "cell_type": "code",
   "execution_count": 103,
   "metadata": {},
   "outputs": [],
   "source": [
    "execute_this_cell = False\n",
    "if not execute_this_cell:\n",
    "    pass\n",
    "\n",
    "else:\n",
    "    # Variables to avoid magic numbers and for better readability\n",
    "    grid_width = 15\n",
    "    grid_height = 3\n",
    "\n",
    "    def visualize_images(images, labels, num_rows=2, num_cols=10):\n",
    "        fig, axes = plt.subplots(num_rows, num_cols, figsize=(grid_width, grid_height))\n",
    "        axes = axes.flatten()\n",
    "        for i, ax in enumerate(axes):\n",
    "            img = images[i][0]\n",
    "            ax.imshow(img, cmap='gray')\n",
    "            ax.set_title(f'Label: {labels[i]}')\n",
    "            ax.axis('off')\n",
    "        plt.tight_layout()\n",
    "        plt.show()\n",
    "\n",
    "    dataiter = iter(train_loader)\n",
    "    images, labels = next(dataiter)\n",
    "\n",
    "    visualize_images(images, labels)"
   ]
  },
  {
   "cell_type": "markdown",
   "metadata": {},
   "source": [
    "<font size=\"6\">Function to visualize images of a specific digit</font>"
   ]
  },
  {
   "cell_type": "code",
   "execution_count": 104,
   "metadata": {},
   "outputs": [],
   "source": [
    "# only for human learning\n",
    "execute_this_cell = False\n",
    "if not execute_this_cell:\n",
    "    pass\n",
    "\n",
    "else:\n",
    "    def visualize_specific_digit(images, labels, digit=8, num_images=10):\n",
    "        fig, axes = plt.subplots(1, num_images, figsize=(15, 3))\n",
    "        count = 0\n",
    "        for i in range(len(images)):\n",
    "            if labels[i] == digit and count < num_images:\n",
    "                ax = axes[count]\n",
    "                img = images[i][0]\n",
    "                ax.imshow(img, cmap='gray')\n",
    "                ax.set_title(f'Label: {labels[i]}')\n",
    "                ax.axis('off')\n",
    "                count += 1\n",
    "            if count >= num_images:\n",
    "                break\n",
    "        plt.tight_layout()\n",
    "        plt.show()\n",
    "\n",
    "    all_images, all_labels = zip(*[(image, label) for image, label in trainset])\n",
    "\n",
    "    visualize_specific_digit(all_images, all_labels, digit=8, num_images=20)"
   ]
  },
  {
   "cell_type": "markdown",
   "metadata": {},
   "source": [
    "Timer started for statistics"
   ]
  },
  {
   "cell_type": "code",
   "execution_count": 105,
   "metadata": {},
   "outputs": [],
   "source": [
    "start_time = time.time()"
   ]
  },
  {
   "cell_type": "markdown",
   "metadata": {},
   "source": [
    "Due to performance issues I had to simplify th CNN. <br>\n",
    "I've started to implement the use of GPU intead of CPU but not sure if it will be done in time. "
   ]
  },
  {
   "cell_type": "code",
   "execution_count": 106,
   "metadata": {},
   "outputs": [],
   "source": [
    "class SimpleCNN(nn.Module):\n",
    "    def __init__(self, input_channels, conv_filters, kernel_size, fc_neurons, output_classes):\n",
    "        super(SimpleCNN, self).__init__()\n",
    "        self.conv1 = nn.Conv2d(input_channels, conv_filters, kernel_size=kernel_size, padding=1)\n",
    "        self.pool = nn.MaxPool2d(2, 2)\n",
    "        self.flattened_size = conv_filters * (28 // 2) ** 2\n",
    "        self.fc1 = nn.Linear(self.flattened_size, fc_neurons)\n",
    "        self.dropout1 = nn.Dropout(0.25)  # Dropout after the first fully connected layer\n",
    "        self.fc2 = nn.Linear(fc_neurons, output_classes)\n",
    "        self.dropout2 = nn.Dropout(0.5)  # Dropout before the final layer\n",
    "\n",
    "    def forward(self, x):\n",
    "        x = self.pool(F.relu(self.conv1(x)))\n",
    "        x = x.view(-1, self.flattened_size)\n",
    "        x = F.relu(self.fc1(x))\n",
    "        x = self.dropout1(x)  # Apply dropout after activation of the first FC layer\n",
    "        x = self.fc2(x)\n",
    "        x = self.dropout2(x)  # Apply dropout before the final output\n",
    "        return x"
   ]
  },
  {
   "cell_type": "markdown",
   "metadata": {},
   "source": [
    "Instantiate the model <br>\n",
    "The device will determine if it will be using GPU or CPU"
   ]
  },
  {
   "cell_type": "code",
   "execution_count": 107,
   "metadata": {},
   "outputs": [
    {
     "name": "stdout",
     "output_type": "stream",
     "text": [
      "Using device: cpu\n",
      "Loading checkpoint './models/model_epochs1_lr0.001_batch64_optimAdam_channels1_filters16_kernel3_fc64_classes10.pth'\n",
      "Checkpoint loaded. Resuming training from run 5.\n"
     ]
    }
   ],
   "source": [
    "model = SimpleCNN(input_channels, conv_filters, kernel_size, fc_neurons, output_classes)\n",
    "\n",
    "# Select the device\n",
    "device = torch.device(\"cuda:1\" if torch.cuda.is_available() else \"cpu\")\n",
    "print(f\"Using device: {device}\")\n",
    "\n",
    "model.to(device)\n",
    "\n",
    "optimizer = getattr(optim, optimizer_type)(model.parameters(), lr=learning_rate, weight_decay=1e-4)  # Adjust weight_decay as needed\n",
    "\n",
    "current_run = 1\n",
    "accuracy_last_run = 0\n",
    "best_val_loss = float('inf')  # Set initial best validation loss to infinity\n",
    "early_stopping_triggered = False\n",
    "\n",
    "# Check for previous runs\n",
    "if os.path.exists(checkpoint_path):\n",
    "    print(f\"Loading checkpoint '{checkpoint_path}'\")\n",
    "\n",
    "    checkpoint = torch.load(checkpoint_path, map_location=device)\n",
    "\n",
    "    model.load_state_dict(checkpoint['model_state_dict'])\n",
    "    optimizer.load_state_dict(checkpoint['optimizer_state_dict'])\n",
    "\n",
    "    current_run = checkpoint.get('run', 0)\n",
    "    current_run += 1\n",
    "    accuracy_last_run = checkpoint.get('accuracy', 0)\n",
    "    best_val_loss = checkpoint.get('best_validation_loss', float('inf'))  # Load or set to infinity\n",
    "\n",
    "    print(f\"Checkpoint loaded. Resuming training from run {current_run}.\")\n",
    "else:\n",
    "    print(\"No checkpoint found. Starting training from scratch.\")"
   ]
  },
  {
   "cell_type": "markdown",
   "metadata": {},
   "source": [
    "## Training"
   ]
  },
  {
   "cell_type": "markdown",
   "metadata": {},
   "source": [
    "\n",
    "<font color=\"orange\">Zero the parameter gradients: </font> <br>\n",
    "Before the next iteration, optimizer.zero_grad() is called to reset the gradients to zero. This is crucial because gradients are accumulated by default in PyTorch for each backward() call. Failing to zero the gradients would result in accumulating gradients across batches, leading to incorrect updates.\n",
    "\n",
    "<font color=\"orange\">Forward pass: </font> <br>\n",
    "The model processes the input data (images) through its layers to produce predictions (outputs).\n",
    "\n",
    "<font color=\"orange\">Calculate the loss: </font> <br>\n",
    "The loss (loss) is computed using the loss_type function. This function compares the model's predictions (outputs) with the actual target labels (labels), giving a measure of how well the model is performing.\n",
    "\n",
    "<font color=\"orange\">Backward pass: </font> <br>\n",
    "By calling loss.backward(), the program computes the gradients of the loss with respect to each parameter in the model. These gradients are stored in the grad attribute of each parameter.\n",
    "\n",
    "<font color=\"orange\">Optimize: </font> <br>\n",
    "The optimizer.step() function then uses these gradients to update the parameters. The optimization algorithm adjusts each parameter based on its gradient, but also considers the moving average of past gradients and squared gradients to adaptively adjust learning rates for each parameter.\n",
    "\n",
    "<font color=\"orange\">Accumulate the loss: </font> <br>\n",
    "This serves to accumulate the loss values over all the batches within an epoch.\n",
    "\n",
    "<font color=\"orange\">Validation: </font> <br>\n",
    "This validation loop provides a measure of the model's generalization ability by evaluating its performance on a set of data that was not used during training. \n",
    "\n",
    "<font color=\"orange\">Overfitting prevention: </font> <br>\n",
    "This part monitors the validation loss during training. If the model stops improving or starts performing worse on the validation set (indicating overfitting), training can be halted early to preserve the best state of the model. Adjust the patience variable if the training stops to early or to late.\n",
    "\n"
   ]
  },
  {
   "cell_type": "code",
   "execution_count": 108,
   "metadata": {},
   "outputs": [
    {
     "name": "stdout",
     "output_type": "stream",
     "text": [
      "Epoch 1, Training Loss: 1.0446, Validation Loss: 0.1222\n"
     ]
    }
   ],
   "source": [
    "patience = 5  # Number of epochs to wait for improvement before stopping\n",
    "patience_counter = 0\n",
    "for epoch in range(num_epochs):\n",
    "    model.train()\n",
    "    running_loss = 0.0\n",
    "\n",
    "    # Training loop\n",
    "    for images, labels in train_loader:\n",
    "        images, labels = images.to(device), labels.to(device)\n",
    "\n",
    "        # Zero the parameter gradients\n",
    "        optimizer.zero_grad()\n",
    "\n",
    "        # Forward Ppass\n",
    "        outputs = model(images)\n",
    "        # Calculate the loss\n",
    "        loss = loss_type(outputs, labels)\n",
    "\n",
    "        # Backward pass\n",
    "        loss.backward()\n",
    "\n",
    "        # Optimize\n",
    "        optimizer.step()\n",
    "\n",
    "        # Accumulate the loss\n",
    "        running_loss += loss.item()\n",
    "\n",
    "    avg_train_loss = running_loss / len(train_loader)\n",
    "\n",
    "    # Validation\n",
    "    model.eval()\n",
    "    running_val_loss = 0.0\n",
    "    with torch.no_grad():\n",
    "        for images, labels in val_loader:\n",
    "            images, labels = images.to(device), labels.to(device)\n",
    "            outputs = model(images)\n",
    "            loss = loss_type(outputs, labels)\n",
    "            running_val_loss += loss.item()\n",
    "\n",
    "    avg_val_loss = running_val_loss / len(val_loader)\n",
    "\n",
    "    print(f\"Epoch {epoch+1}, Training Loss: {avg_train_loss:.4f}, Validation Loss: {avg_val_loss:.4f}\")\n",
    "\n",
    "    #Overfitting prevention\n",
    "    if avg_val_loss < best_val_loss:\n",
    "        best_val_loss = avg_val_loss\n",
    "        patience_counter = 0  # Reset counter if validation loss improves\n",
    "    else:\n",
    "        patience_counter += 1\n",
    "    if patience_counter >= patience:\n",
    "        print(f\"No improvement for {patience} consecutive epochs. Early stopping triggered.\")\n",
    "        early_stopping_triggered = True\n",
    "        break\n"
   ]
  },
  {
   "cell_type": "markdown",
   "metadata": {},
   "source": [
    "## Evaluate the result"
   ]
  },
  {
   "cell_type": "markdown",
   "metadata": {},
   "source": [
    "<font color=\"orange\">Accuracy: </font> <br>\n",
    "This measures the overall correctness of the model across all classes.<br> \n",
    "\n",
    "<font color=\"orange\">Precision: </font> <br>\n",
    "This measures the correctness achieved in positive prediction (i.e., the proportion of true positives among all positive predictions). <br>\n",
    "\n",
    "<font color=\"orange\">Recall: </font> <br>\n",
    "This measures the ability of the model to find all the relevant cases within a dataset (i.e., the proportion of true positives among all actual positives). <br>\n",
    "\n",
    "<font color=\"orange\">F1 Score: </font> <br>\n",
    "This provides a balance between precision and recall, taking both false positives and false negatives into account."
   ]
  },
  {
   "cell_type": "code",
   "execution_count": 109,
   "metadata": {},
   "outputs": [
    {
     "name": "stdout",
     "output_type": "stream",
     "text": [
      "Accuracy of the model on the test images: 97.20%\n"
     ]
    }
   ],
   "source": [
    "model.eval()\n",
    "\n",
    "# Track the number of correct predictions and total predictions\n",
    "correct = 0\n",
    "total = 0\n",
    "\n",
    "with torch.no_grad():\n",
    "    for images, labels in testloader:\n",
    "        images, labels = images.to(device), labels.to(device)\n",
    "        outputs = model(images)\n",
    "\n",
    "        # Get the predicted class with the highest score\n",
    "        _, predicted = torch.max(outputs.data, 1)\n",
    "\n",
    "        # Update the correct predictions and total count\n",
    "        total += labels.size(0)\n",
    "        correct += (predicted == labels).sum().item()\n",
    "\n",
    "# Calculate the accuracy\n",
    "accuracy = 100 * correct / total\n",
    "print(f'Accuracy of the model on the test images: {accuracy:.2f}%')"
   ]
  },
  {
   "cell_type": "code",
   "execution_count": 110,
   "metadata": {},
   "outputs": [
    {
     "name": "stdout",
     "output_type": "stream",
     "text": [
      "Precision: 97.21%, Recall: 97.19%, F1 Score: 97.20%\n"
     ]
    }
   ],
   "source": [
    "all_predictions = []\n",
    "all_labels = []\n",
    "\n",
    "with torch.no_grad():\n",
    "    for images, labels in testloader:\n",
    "        images, labels = images.to(device), labels.to(device)\n",
    "        outputs = model(images)\n",
    "        _, predicted = torch.max(outputs.data, 1)\n",
    "\n",
    "        # In case of using GPU, move predictions and labels back to CPU\n",
    "        all_predictions.extend(predicted.cpu().numpy())\n",
    "        all_labels.extend(labels.cpu().numpy())\n",
    "\n",
    "# Calculate precision, recall, and F1 score\n",
    "precision = 100 * precision_score(all_labels, all_predictions, average='macro')\n",
    "recall = 100 *recall_score(all_labels, all_predictions, average='macro')\n",
    "f1 = 100* f1_score(all_labels, all_predictions, average='macro')\n",
    "\n",
    "print(f'Precision: {precision:.2f}%, Recall: {recall:.2f}%, F1 Score: {f1:.2f}%')"
   ]
  },
  {
   "cell_type": "markdown",
   "metadata": {},
   "source": [
    "<font size=\"6\">Run complete </font>"
   ]
  },
  {
   "cell_type": "code",
   "execution_count": 111,
   "metadata": {},
   "outputs": [],
   "source": [
    "stop_time = time.time()\n",
    "run_duration = stop_time - start_time"
   ]
  },
  {
   "cell_type": "markdown",
   "metadata": {},
   "source": [
    "## Finishing work"
   ]
  },
  {
   "cell_type": "markdown",
   "metadata": {},
   "source": [
    "<font size=\"6\">Function to visualize incorrect indices</font>"
   ]
  },
  {
   "cell_type": "code",
   "execution_count": 112,
   "metadata": {},
   "outputs": [
    {
     "name": "stdout",
     "output_type": "stream",
     "text": [
      "Number of incorrect predictions: 280\n",
      "Here are some examples: \n"
     ]
    },
    {
     "data": {
      "image/png": "[encoded data removed]",
      "text/plain": [
       "<Figure size 1200x500 with 14 Axes>"
      ]
     },
     "metadata": {},
     "output_type": "display_data"
    }
   ],
   "source": [
    "execute_this_cell = True\n",
    "if not execute_this_cell:\n",
    "    pass\n",
    "\n",
    "else:\n",
    "    incorrect_indices = np.where(np.array(all_predictions) != np.array(all_labels))[0]\n",
    "\n",
    "    def visualize_incorrect_predictions(incorrect_indices, num_rows=2, num_cols=5):\n",
    "        grid_width = 12\n",
    "        grid_height = 5\n",
    "        fig, axes = plt.subplots(num_rows, num_cols, figsize=(grid_width, grid_height))\n",
    "        axes = axes.flatten()\n",
    "        for i, ax in enumerate(axes):\n",
    "            if i < len(incorrect_indices):\n",
    "                idx = incorrect_indices[i]\n",
    "                image, true_label, predicted_label = testset[idx][0], all_labels[idx], all_predictions[idx]\n",
    "                ax.imshow(image.squeeze(), cmap='gray')\n",
    "                ax.set_title(f'True: {true_label}, Pred: {predicted_label}')\n",
    "                ax.axis('off')\n",
    "        plt.tight_layout()\n",
    "        plt.show()\n",
    "\n",
    "    print(f'Number of incorrect predictions: {len(incorrect_indices)}')\n",
    "    print(f\"Here are some examples: \")\n",
    "\n",
    "    #Assuming incorrect_indices, show the first 14 incorrect_indices\n",
    "    visualize_incorrect_predictions(incorrect_indices[:14], num_rows=2, num_cols=7)"
   ]
  },
  {
   "cell_type": "markdown",
   "metadata": {},
   "source": [
    "Check if accuracy has improved since last run"
   ]
  },
  {
   "cell_type": "code",
   "execution_count": 113,
   "metadata": {},
   "outputs": [],
   "source": [
    "improvement = accuracy > accuracy_last_run"
   ]
  },
  {
   "cell_type": "markdown",
   "metadata": {},
   "source": [
    "Saving the model for continuous training"
   ]
  },
  {
   "cell_type": "code",
   "execution_count": 114,
   "metadata": {},
   "outputs": [],
   "source": [
    "if early_stopping_triggered == False:\n",
    "    checkpoint = {\n",
    "        'run': current_run,\n",
    "        'num_of_epochs': num_epochs,\n",
    "        'model_state_dict': model.state_dict(),\n",
    "        'optimizer_state_dict': optimizer.state_dict(),\n",
    "        'accuracy': accuracy,\n",
    "        'training_loss': avg_train_loss,\n",
    "        'validation_loss': avg_val_loss,\n",
    "        'best_validation_loss': best_val_loss,\n",
    "        'run_duration': run_duration,\n",
    "        'improvement': improvement\n",
    "        }\n",
    "\n",
    "    torch.save(checkpoint, checkpoint_path)\n"
   ]
  },
  {
   "cell_type": "markdown",
   "metadata": {},
   "source": [
    "Saving data for statistics"
   ]
  },
  {
   "cell_type": "code",
   "execution_count": 115,
   "metadata": {},
   "outputs": [],
   "source": [
    "def save_metrics_csv(epoch, num_epochs, precision, recall, f1, accuracy, avg_val_loss, best_val_loss, run_duration, improvement):\n",
    "    # Check if the file exists to write headers only once\n",
    "    file_exists = os.path.isfile(metrics_csv_path)\n",
    "\n",
    "    with open(metrics_csv_path, 'a', newline='') as csvfile:\n",
    "        fieldnames = ['Run', 'Epochs', 'Precision', 'Recall', 'F1 Score', 'Accuracy', 'Avg. Val. Loss', 'Best Val. Loss', 'Run Duration', 'Improvement']\n",
    "        writer = csv.DictWriter(csvfile, fieldnames=fieldnames)\n",
    "\n",
    "        if not file_exists:\n",
    "            writer.writeheader()  # Write the header only if the file is new\n",
    "\n",
    "        writer.writerow({\n",
    "            'Run': epoch,\n",
    "            'Epochs': num_epochs,\n",
    "            'Precision': f'{precision:.2f}%',\n",
    "            'Recall': f'{recall:.2f}%',\n",
    "            'F1 Score': f'{f1:.2f}%',\n",
    "            'Accuracy': f'{accuracy:.2f}%',\n",
    "            'Avg. Val. Loss': f'{avg_val_loss}',\n",
    "            'Best Val. Loss': f'{best_val_loss}',\n",
    "            'Run Duration': f'{run_duration:.2f}s',\n",
    "            'Improvement': improvement\n",
    "        })\n",
    "\n",
    "save_metrics_csv(current_run, num_epochs, precision, recall, f1, accuracy, avg_val_loss, best_val_loss, run_duration, improvement)\n"
   ]
  },
  {
   "cell_type": "markdown",
   "metadata": {},
   "source": [
    "## Showing statistics"
   ]
  },
  {
   "cell_type": "code",
   "execution_count": 116,
   "metadata": {},
   "outputs": [],
   "source": [
    "def show_model():\n",
    "    print(f\"Optimizer: {optimizer_type}\\n\"\n",
    "          f\"Learning rate: {learning_rate}\\n\"\n",
    "          f\"Batch size: {batch_size}\\n\"\n",
    "          f\"Loss type: {loss_type}\\n\"\n",
    "          f\"Input channels: {input_channels}\\n\"\n",
    "          f\"Convolutional filters: {conv_filters}\\n\"\n",
    "          f\"Kernel size: {kernel_size}\\n\"\n",
    "          f\"(FC) Neurons: {fc_neurons}\\n\"\n",
    "          f\"Output classes: {output_classes}\\n\")"
   ]
  },
  {
   "cell_type": "code",
   "execution_count": 117,
   "metadata": {},
   "outputs": [
    {
     "name": "stdout",
     "output_type": "stream",
     "text": [
      "Optimizer: Adam\n",
      "Learning rate: 0.001\n",
      "Batch size: 64\n",
      "Loss type: CrossEntropyLoss()\n",
      "Input channels: 1\n",
      "Convolutional filters: 16\n",
      "Kernel size: 3\n",
      "(FC) Neurons: 64\n",
      "Output classes: 10\n",
      "\n",
      "   Run  Epochs Precision  Recall F1 Score Accuracy  Avg. Val. Loss  Best Val. Loss Run Duration  Improvement\n",
      "0    1       1    94.26%  94.25%   94.23%    94.3%        0.339869        0.339869       24.51s         True\n",
      "1    2       1    96.21%  96.18%   96.18%    96.2%        0.207722        0.207722       26.07s         True\n",
      "2    3       1    96.68%  96.66%   96.66%   96.68%        0.180913        0.180913       25.95s         True\n",
      "3    4       1    97.15%  97.12%   97.13%   97.14%        0.142140        0.142140       26.65s         True\n",
      "4    5       1    97.21%  97.19%   97.20%    97.2%        0.122197        0.122197       27.39s         True\n",
      "\n",
      "[Run with the best accuracy]\n",
      "   Run  Epochs Precision  Recall F1 Score  Accuracy  Avg. Val. Loss  Best Val. Loss Run Duration  Improvement\n",
      "4    5       1    97.21%  97.19%   97.20%      97.2        0.122197        0.122197       27.39s         True\n"
     ]
    }
   ],
   "source": [
    "\n",
    "pd.set_option('display.max_rows', 1000)\n",
    "pd.set_option('display.max_columns', 1000)\n",
    "pd.set_option('display.width', 1000)\n",
    "df = pd.read_csv(metrics_csv_path)\n",
    "\n",
    "df['Accuracy'] = df['Accuracy'].str.rstrip('%').astype('float')\n",
    "idx_best_accuracy = df['Accuracy'].idxmax()\n",
    "best_run = df.iloc[[idx_best_accuracy]]\n",
    "df['Accuracy'] = df['Accuracy'].apply(lambda x: f\"{x}%\")\n",
    "show_model()\n",
    "print(df)\n",
    "print(\"\\n[Run with the best accuracy]\")\n",
    "print(best_run)"
   ]
  }
 ],
 "metadata": {
  "kernelspec": {
   "display_name": "NumberRecognition",
   "language": "python",
   "name": "python3"
  },
  "language_info": {
   "codemirror_mode": {
    "name": "ipython",
    "version": 3
   },
   "file_extension": ".py",
   "mimetype": "text/x-python",
   "name": "python",
   "nbconvert_exporter": "python",
   "pygments_lexer": "ipython3",
   "version": "3.12.1"
  }
 },
 "nbformat": 4,
 "nbformat_minor": 2
}
