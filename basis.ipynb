{
 "cells": [
  {
   "cell_type": "markdown",
   "metadata": {},
   "source": [
    "## Imports\n"
   ]
  },
  {
   "cell_type": "code",
   "execution_count": 318,
   "metadata": {},
   "outputs": [],
   "source": [
    "import sys\n",
    "import numpy as np\n",
    "import matplotlib.pyplot as plt\n",
    "import torch\n",
    "from torchvision import datasets, transforms\n",
    "from torch.utils.data import random_split\n",
    "\n",
    "import torch.nn as nn\n",
    "import torch.nn.functional as F\n",
    "\n",
    "import torch.optim as optim\n",
    "\n",
    "import os\n",
    "import time\n",
    "\n",
    "from sklearn.metrics import precision_score, recall_score, f1_score\n",
    "\n",
    "import pandas as pd\n",
    "import csv"
   ]
  },
  {
   "cell_type": "markdown",
   "metadata": {},
   "source": [
    "## Setup"
   ]
  },
  {
   "cell_type": "markdown",
   "metadata": {},
   "source": [
    "<font size=\"6\">Number of Epochs:</font> <br>\n",
    "<font size=\"5\">Variable: <font color=\"cyan\">num_epochs</font></font>  <br>\n",
    "<font color=\"orange\">Description: </font> \n",
    " This represents the total number of passes through the entire training dataset. <br>\n",
    " This value dictates how many times the network will see the entire dataset.\n",
    "\n",
    "<font size=\"6\">Learning Rate:</font> <br>\n",
    "<font size=\"5\">Variable: <font color=\"cyan\">learning_rate</font></font>  <br>\n",
    "<font color=\"orange\">Description: </font> <br>\n",
    "This controls the step size at each iteration while moving toward a minimum of a loss function. <br>\n",
    "This parameter affects how quickly or slowly a neural network model learns.\n",
    "\n",
    "<font size=\"6\">Batch Size: </font> <br>\n",
    "<font size=\"5\">Variable: <font color=\"cyan\">batch_size</font></font>  <br>\n",
    "<font color=\"orange\">Description: </font> <br>\n",
    "This determines the number of samples that will be propagated through the network at once.\n",
    "\n",
    "<font size=\"6\">Optimizer: </font> <br>\n",
    "<font size=\"5\">Variable: <font color=\"cyan\">optimizer</font></font>  <br>\n",
    "<font color=\"orange\">Description: </font> <br>\n",
    "This is the algorithm used to update the weights of the network.\n",
    "\n",
    "<font size=\"6\">Loss Function: </font> <br>\n",
    "<font size=\"5\">Variable: <font color=\"cyan\">loss_type</font></font>  <br>\n",
    "<font color=\"orange\">Description: </font> <br>\n",
    "This measures the difference between the output of the neural network and the actual target values.\n",
    "\n",
    "<font size=\"6\">Input Channels: </font> <br>\n",
    "<font size=\"5\">Variable: <font color=\"cyan\">input_channels</font></font>  <br>\n",
    "<font color=\"orange\">Description: </font> <br>\n",
    "In the SimpleCNN class, this determines the number of channels in the input images that the network is designed to process. \n",
    "\n",
    "<font size=\"6\">Convolutional Filters: </font> <br>\n",
    "<font size=\"5\">Variable: <font color=\"cyan\">conv_filters</font></font>  <br>\n",
    "<font color=\"orange\">Description: </font> <br>\n",
    "In the SimpleCNN class, this represents the number of output channels in the convolutional layers.\n",
    "\n",
    "<font size=\"6\">Kernel Size: </font> <br>\n",
    "<font size=\"5\">Variable: <font color=\"cyan\">kernel_size</font></font>  <br>\n",
    "<font color=\"orange\">Description: </font> <br>\n",
    "In the SimpleCNN class, this specifies the size of the window that will slide over the input data.\n",
    "\n",
    "<font size=\"6\">Fully Connected (FC) Neurons: </font> <br>\n",
    "<font size=\"5\">Variable: <font color=\"cyan\">fc_neurons</font></font>  <br>\n",
    "<font color=\"orange\">Description: </font> <br>\n",
    "In the SimpleCNN class, this determines the number of neurons in the fully connected layers.\n",
    "\n",
    "<font size=\"6\">Output Classes: </font> <br>\n",
    "<font size=\"5\">Variable: <font color=\"cyan\">output_classes</font></font>  <br>\n",
    "<font color=\"orange\">Description: </font> <br>\n",
    " In the SimpleCNN class, this represents the number of different classes the model can predict. <br>\n",
    " For MNIST, this is set to 10, corresponding to the digits 0 through 9."
   ]
  },
  {
   "cell_type": "markdown",
   "metadata": {},
   "source": [
    "<font size=\"8\">Set variables</font> <br>\n",
    "<font size=\"6\">Starting conditions</font> <br>"
   ]
  },
  {
   "cell_type": "markdown",
   "metadata": {},
   "source": [
    "<font size=\"6\">[<font color=\"orange\">Miscellaneous</font>]</font> <br>\n",
    "<font color=\"cyan\">Default values</font> <br>\n",
    "num_epochs = 1 <br>\n",
    "learning_rate = 0.001 <br>\n",
    "batch_size = 64 <br>\n",
    "optimizer_type = 'Adam' <br>\n",
    "loss_type = nn.CrossEntropyLoss() <br>"
   ]
  },
  {
   "cell_type": "markdown",
   "metadata": {},
   "source": [
    "<font size=\"6\">[<font color=\"orange\">Miscellaneous</font>]</font> <br>\n",
    "<font color=\"cyan\">Better values</font> <br>\n",
    "num_epochs = 15 <br>\n",
    "learning_rate = 0.001 <br>\n",
    "batch_size = 64 <br>\n",
    "optimizer_type = 'Adam' <br>\n",
    "loss_type = nn.CrossEntropyLoss() <br>"
   ]
  },
  {
   "cell_type": "code",
   "execution_count": 319,
   "metadata": {},
   "outputs": [],
   "source": [
    "num_epochs = 1\n",
    "learning_rate = 0.001\n",
    "batch_size = 64\n",
    "optimizer_type = 'Adam'\n",
    "loss_type = nn.CrossEntropyLoss()"
   ]
  },
  {
   "cell_type": "markdown",
   "metadata": {},
   "source": [
    "<font size=\"6\">[<font color=\"olive\">SimpleCNN arguments</font>]</font> <br>\n",
    "<font color=\"cyan\">Default values</font> <br>\n",
    "input_channels=1 <br>\n",
    "conv_filters=16 <br>\n",
    "kernel_size=3 <br>\n",
    "fc_neurons=64 <br>\n",
    "output_classes=10 "
   ]
  },
  {
   "cell_type": "markdown",
   "metadata": {},
   "source": [
    "<font size=\"6\">[<font color=\"olive\">SimpleCNN arguments</font>]</font> <br>\n",
    "<font color=\"cyan\">Better values</font> <br>\n",
    "input_channels=1 <br>\n",
    "conv_filters=32 <br>\n",
    "kernel_size=3 <br>\n",
    "fc_neurons=128 <br>\n",
    "output_classes=10 "
   ]
  },
  {
   "cell_type": "code",
   "execution_count": 320,
   "metadata": {},
   "outputs": [],
   "source": [
    "input_channels=1\n",
    "conv_filters=16\n",
    "kernel_size=3\n",
    "fc_neurons=64\n",
    "output_classes=10\n",
    "\n",
    "# input_channels=1\n",
    "# conv_filters=32\n",
    "# kernel_size=3\n",
    "# fc_neurons=256\n",
    "# output_classes=10"
   ]
  },
  {
   "cell_type": "markdown",
   "metadata": {},
   "source": [
    "<font size=\"6\">Continuous training </font> <br>\n",
    "\n",
    "Due to high modification possibilities every unique training model will generate its own <font color=\"cyan\">checkpoint</font> for continuous training.<br> This means that the model can be altered with without losing old training values and progression. <br>\n",
    "\n",
    "A run with the default values will generate a checkpoint in the <font color=\"orange\">models</font> folder file with the name: <br>\n",
    "<font color=\"orange\">model_epochs1_lr0.001_batch64_optimAdam_channels1_filters16_kernel3_fc64_classes10.pth</font></font>\n",
    "\n",
    "If mixed training is to be enabled, change the mixed_training variable to <font color=\"lime\">True</font> <br> <br>\n",
    "The checkpoint file will then have the name: <font color=\"orange\">model_mixed.pth</font> <br>\n",
    "\n",
    "Each run will also save statistics to a csv file in the <font color=\"cyah\">metrics</font> folder with the name:<br>\n",
    "<font color=\"cyah\">metric_epochs1_lr0.001_batch64_optimAdam_channels1_filters16_kernel3_fc64_classes10.csv</font>\n",
    "or <font color=\"cyah\">metric_mixed.csv</font> <br>\n"
   ]
  },
  {
   "cell_type": "code",
   "execution_count": 321,
   "metadata": {},
   "outputs": [],
   "source": [
    "mixed_training = False\n",
    "\n",
    "if mixed_training:\n",
    "    model_specifics =  f\"_mixed\"\n",
    "\n",
    "else:\n",
    "    model_specifics =   f\"_epochs{num_epochs}\" + \\\n",
    "                        f\"_lr{learning_rate}\" + \\\n",
    "                        f\"_batch{batch_size}\" + \\\n",
    "                        f\"_optim{optimizer_type}\" + \\\n",
    "                        f\"_channels{input_channels}\" + \\\n",
    "                        f\"_filters{conv_filters}\" + \\\n",
    "                        f\"_kernel{kernel_size}\" + \\\n",
    "                        f\"_fc{fc_neurons}\" + \\\n",
    "                        f\"_classes{output_classes}\"\n",
    "\n",
    "checkpoint_path = f\"./models/model{model_specifics}.pth\"\n",
    "metrics_csv_path = f\"./metrics/metric{model_specifics}.csv\"\n",
    "\n",
    "# Check if the model directory exists, create it if it doesn't\n",
    "if not os.path.exists('./models'):\n",
    "    os.makedirs('./models')\n",
    "if not os.path.exists('./metrics'):\n",
    "    os.makedirs('./metrics')"
   ]
  },
  {
   "cell_type": "markdown",
   "metadata": {},
   "source": [
    "## Downloading and preparing the MNIST dataset"
   ]
  },
  {
   "cell_type": "code",
   "execution_count": 322,
   "metadata": {},
   "outputs": [],
   "source": [
    "# Define a transformation to normalize the data\n",
    "transform = transforms.Compose([\n",
    "    transforms.ToTensor(),  # Convert images to PyTorch tensors\n",
    "    transforms.Normalize((0.5,), (0.5,))  # Normalize the images\n",
    "])\n",
    "try:\n",
    "    # Download and prepare the MNIST training dataset\n",
    "    trainset = datasets.MNIST(root='./data', train=True, download=True, transform=transform)\n",
    "\n",
    "    # Download and prepare the MNIST test dataset\n",
    "    testset = datasets.MNIST(root='./data', train=False, download=True, transform=transform)\n",
    "\n",
    "    # Define the size of the validation set\n",
    "    val_size = int(len(trainset) * 0.2)  # 20% for validation\n",
    "    train_size = len(trainset) - val_size  # 80% for training\n",
    "\n",
    "    # Split the dataset\n",
    "    train_dataset, val_dataset = random_split(trainset, [train_size, val_size])\n",
    "\n",
    "except IOError as e:\n",
    "    print(f\"An IOError occurred: {e.strerror}\")\n",
    "    sys.exit(1)\n",
    "except Exception as e:\n",
    "    print(f\"An unexpected error occurred: {e}\")\n",
    "    sys.exit(1)\n",
    "\n",
    "# Create DataLoaders for the training, validation and test sets\n",
    "train_loader = torch.utils.data.DataLoader(train_dataset, batch_size=batch_size, shuffle=True)\n",
    "val_loader = torch.utils.data.DataLoader(val_dataset, batch_size=batch_size, shuffle=False)\n",
    "testloader = torch.utils.data.DataLoader(testset, batch_size, shuffle=False)"
   ]
  },
  {
   "cell_type": "markdown",
   "metadata": {},
   "source": [
    "Some code snippets starts with 'execute_this_cell = False' <br>\n",
    "In this state the snippet is deactivated. To activate, simply change <font color=\"red\">False</font> to <font color=\"lime\">True</font> <br>\n",
    "No such snippet will effect performance, only visualization."
   ]
  },
  {
   "cell_type": "markdown",
   "metadata": {},
   "source": [
    "<font size=\"6\">Function to visualize a batch of images</font>"
   ]
  },
  {
   "cell_type": "code",
   "execution_count": 323,
   "metadata": {},
   "outputs": [],
   "source": [
    "execute_this_cell = False\n",
    "if not execute_this_cell:\n",
    "    pass\n",
    "\n",
    "else:\n",
    "    # Variables to avoid magic numbers and for better readability\n",
    "    grid_width = 15\n",
    "    grid_height = 3\n",
    "\n",
    "    def visualize_images(images, labels, num_rows=2, num_cols=10):\n",
    "        fig, axes = plt.subplots(num_rows, num_cols, figsize=(grid_width, grid_height))\n",
    "        axes = axes.flatten()\n",
    "        for i, ax in enumerate(axes):\n",
    "            img = images[i][0]\n",
    "            ax.imshow(img, cmap='gray')\n",
    "            ax.set_title(f'Label: {labels[i]}')\n",
    "            ax.axis('off')\n",
    "        plt.tight_layout()\n",
    "        plt.show()\n",
    "\n",
    "    dataiter = iter(train_loader)\n",
    "    images, labels = next(dataiter)\n",
    "\n",
    "    visualize_images(images, labels)"
   ]
  },
  {
   "cell_type": "markdown",
   "metadata": {},
   "source": [
    "<font size=\"6\">Function to visualize images of a specific digit</font>"
   ]
  },
  {
   "cell_type": "code",
   "execution_count": 324,
   "metadata": {},
   "outputs": [],
   "source": [
    "# only for human learning\n",
    "execute_this_cell = False\n",
    "if not execute_this_cell:\n",
    "    pass\n",
    "\n",
    "else:\n",
    "    def visualize_specific_digit(images, labels, digit=8, num_images=10):\n",
    "        fig, axes = plt.subplots(1, num_images, figsize=(15, 3))\n",
    "        count = 0\n",
    "        for i in range(len(images)):\n",
    "            if labels[i] == digit and count < num_images:\n",
    "                ax = axes[count]\n",
    "                img = images[i][0]\n",
    "                ax.imshow(img, cmap='gray')\n",
    "                ax.set_title(f'Label: {labels[i]}')\n",
    "                ax.axis('off')\n",
    "                count += 1\n",
    "            if count >= num_images:\n",
    "                break\n",
    "        plt.tight_layout()\n",
    "        plt.show()\n",
    "\n",
    "    all_images, all_labels = zip(*[(image, label) for image, label in trainset])\n",
    "\n",
    "    visualize_specific_digit(all_images, all_labels, digit=8, num_images=20)"
   ]
  },
  {
   "cell_type": "markdown",
   "metadata": {},
   "source": [
    "Timer started for statistics"
   ]
  },
  {
   "cell_type": "code",
   "execution_count": 325,
   "metadata": {},
   "outputs": [],
   "source": [
    "start_time = time.time()"
   ]
  },
  {
   "cell_type": "markdown",
   "metadata": {},
   "source": [
    "Due to performance issues I had to simplify th CNN. <br>\n",
    "I've started to implement the use of GPU intead of CPU but not sure if it will be done in time. "
   ]
  },
  {
   "cell_type": "code",
   "execution_count": 326,
   "metadata": {},
   "outputs": [],
   "source": [
    "class SimpleCNN(nn.Module):\n",
    "    def __init__(self, input_channels, conv_filters, kernel_size, fc_neurons, output_classes):\n",
    "        super(SimpleCNN, self).__init__()\n",
    "        self.conv1 = nn.Conv2d(input_channels, conv_filters, kernel_size=kernel_size, padding=1)\n",
    "        self.pool = nn.MaxPool2d(2, 2)\n",
    "        self.flattened_size = conv_filters * (28 // 2) ** 2\n",
    "        self.fc1 = nn.Linear(self.flattened_size, fc_neurons)\n",
    "        self.dropout1 = nn.Dropout(0.25)  # Dropout after the first fully connected layer\n",
    "        self.fc2 = nn.Linear(fc_neurons, output_classes)\n",
    "        self.dropout2 = nn.Dropout(0.5)  # Dropout before the final layer\n",
    "\n",
    "    def forward(self, x):\n",
    "        x = self.pool(F.relu(self.conv1(x)))\n",
    "        x = x.view(-1, self.flattened_size)\n",
    "        x = F.relu(self.fc1(x))\n",
    "        x = self.dropout1(x)  # Apply dropout after activation of the first FC layer\n",
    "        x = self.fc2(x)\n",
    "        x = self.dropout2(x)  # Apply dropout before the final output\n",
    "        return x"
   ]
  },
  {
   "cell_type": "markdown",
   "metadata": {},
   "source": [
    "Instantiate the model <br>\n",
    "The device will determine if it will be using GPU or CPU"
   ]
  },
  {
   "cell_type": "code",
   "execution_count": 327,
   "metadata": {},
   "outputs": [
    {
     "name": "stdout",
     "output_type": "stream",
     "text": [
      "Using device: cpu\n",
      "Loading checkpoint './models/model_epochs1_lr0.001_batch64_optimAdam_channels1_filters16_kernel3_fc64_classes10.pth'\n",
      "Checkpoint loaded. Resuming training from run 25.\n"
     ]
    }
   ],
   "source": [
    "model = SimpleCNN(input_channels, conv_filters, kernel_size, fc_neurons, output_classes)\n",
    "\n",
    "# Select the device\n",
    "device = torch.device(\"cuda:1\" if torch.cuda.is_available() else \"cpu\")\n",
    "print(f\"Using device: {device}\")\n",
    "\n",
    "model.to(device)\n",
    "\n",
    "optimizer = getattr(optim, optimizer_type)(model.parameters(), lr=learning_rate, weight_decay=1e-4)  # Adjust weight_decay as needed\n",
    "\n",
    "current_run = 1\n",
    "accuracy_last_run = 0\n",
    "best_val_loss = float('inf')  # Set initial best validation loss to infinity\n",
    "early_stopping_triggered = False\n",
    "\n",
    "# Check for previous runs\n",
    "if os.path.exists(checkpoint_path):\n",
    "    print(f\"Loading checkpoint '{checkpoint_path}'\")\n",
    "\n",
    "    checkpoint = torch.load(checkpoint_path, map_location=device)\n",
    "\n",
    "    model.load_state_dict(checkpoint['model_state_dict'])\n",
    "    optimizer.load_state_dict(checkpoint['optimizer_state_dict'])\n",
    "\n",
    "    current_run = checkpoint.get('run', current_run)\n",
    "    current_run += 1\n",
    "    accuracy_last_run = checkpoint.get('accuracy', 0)\n",
    "    best_val_loss = checkpoint.get('best_validation_loss', float('inf'))  # Load or set to infinity\n",
    "\n",
    "    print(f\"Checkpoint loaded. Resuming training from run {current_run}.\")\n",
    "else:\n",
    "    print(\"No checkpoint found. Starting training from scratch.\")"
   ]
  },
  {
   "cell_type": "markdown",
   "metadata": {},
   "source": [
    "## Training"
   ]
  },
  {
   "cell_type": "markdown",
   "metadata": {},
   "source": [
    "\n",
    "<font color=\"orange\">Zero the parameter gradients: </font> <br>\n",
    "Before the next iteration, optimizer.zero_grad() is called to reset the gradients to zero. This is crucial because gradients are accumulated by default in PyTorch for each backward() call. Failing to zero the gradients would result in accumulating gradients across batches, leading to incorrect updates.\n",
    "\n",
    "<font color=\"orange\">Forward pass: </font> <br>\n",
    "The model processes the input data (images) through its layers to produce predictions (outputs).\n",
    "\n",
    "<font color=\"orange\">Calculate the loss: </font> <br>\n",
    "The loss (loss) is computed using the loss_type function. This function compares the model's predictions (outputs) with the actual target labels (labels), giving a measure of how well the model is performing.\n",
    "\n",
    "<font color=\"orange\">Backward pass: </font> <br>\n",
    "By calling loss.backward(), the program computes the gradients of the loss with respect to each parameter in the model. These gradients are stored in the grad attribute of each parameter.\n",
    "\n",
    "<font color=\"orange\">Optimize: </font> <br>\n",
    "The optimizer.step() function then uses these gradients to update the parameters. The optimization algorithm adjusts each parameter based on its gradient, but also considers the moving average of past gradients and squared gradients to adaptively adjust learning rates for each parameter.\n",
    "\n",
    "<font color=\"orange\">Accumulate the loss: </font> <br>\n",
    "This serves to accumulate the loss values over all the batches within an epoch.\n",
    "\n",
    "<font color=\"orange\">Validation: </font> <br>\n",
    "This validation loop provides a measure of the model's generalization ability by evaluating its performance on a set of data that was not used during training. \n",
    "\n",
    "<font color=\"orange\">Overfitting prevention: </font> <br>\n",
    "This part monitors the validation loss during training. If the model stops improving or starts performing worse on the validation set (indicating overfitting), training can be halted early to preserve the best state of the model. Adjust the patience variable if the training stops to early or to late.\n",
    "\n"
   ]
  },
  {
   "cell_type": "code",
   "execution_count": 328,
   "metadata": {},
   "outputs": [
    {
     "name": "stdout",
     "output_type": "stream",
     "text": [
      "Epoch 1, Training Loss: 0.8793, Validation Loss: 0.0306\n"
     ]
    }
   ],
   "source": [
    "patience = 5  # Number of epochs to wait for improvement before stopping\n",
    "patience_counter = 0\n",
    "for epoch in range(num_epochs):\n",
    "    model.train()\n",
    "    running_loss = 0.0\n",
    "\n",
    "    # Training loop\n",
    "    for images, labels in train_loader:\n",
    "        images, labels = images.to(device), labels.to(device)\n",
    "\n",
    "        # Zero the parameter gradients\n",
    "        optimizer.zero_grad()\n",
    "\n",
    "        # Forward Ppass\n",
    "        outputs = model(images)\n",
    "        # Calculate the loss\n",
    "        loss = loss_type(outputs, labels)\n",
    "\n",
    "        # Backward pass\n",
    "        loss.backward()\n",
    "\n",
    "        # Optimize\n",
    "        optimizer.step()\n",
    "\n",
    "        # Accumulate the loss\n",
    "        running_loss += loss.item()\n",
    "\n",
    "    avg_train_loss = running_loss / len(train_loader)\n",
    "\n",
    "    # Validation\n",
    "    model.eval()\n",
    "    running_val_loss = 0.0\n",
    "    with torch.no_grad():\n",
    "        for images, labels in val_loader:\n",
    "            images, labels = images.to(device), labels.to(device)\n",
    "            outputs = model(images)\n",
    "            loss = loss_type(outputs, labels)\n",
    "            running_val_loss += loss.item()\n",
    "\n",
    "    avg_val_loss = running_val_loss / len(val_loader)\n",
    "\n",
    "    print(f\"Epoch {epoch+1}, Training Loss: {avg_train_loss:.4f}, Validation Loss: {avg_val_loss:.4f}\")\n",
    "\n",
    "    #Overfitting prevention\n",
    "    if avg_val_loss < best_val_loss:\n",
    "        best_val_loss = avg_val_loss\n",
    "        patience_counter = 0  # Reset counter if validation loss improves\n",
    "    else:\n",
    "        patience_counter += 1\n",
    "    if patience_counter >= patience:\n",
    "        print(f\"No improvement for {patience} consecutive epochs. Early stopping triggered.\")\n",
    "        early_stopping_triggered = True\n",
    "        break\n"
   ]
  },
  {
   "cell_type": "markdown",
   "metadata": {},
   "source": [
    "## Evaluate the result"
   ]
  },
  {
   "cell_type": "markdown",
   "metadata": {},
   "source": [
    "<font color=\"orange\">Accuracy: </font> <br>\n",
    "This measures the overall correctness of the model across all classes.<br> \n",
    "\n",
    "<font color=\"orange\">Precision: </font> <br>\n",
    "This measures the correctness achieved in positive prediction (i.e., the proportion of true positives among all positive predictions). <br>\n",
    "\n",
    "<font color=\"orange\">Recall: </font> <br>\n",
    "This measures the ability of the model to find all the relevant cases within a dataset (i.e., the proportion of true positives among all actual positives). <br>\n",
    "\n",
    "<font color=\"orange\">F1 Score: </font> <br>\n",
    "This provides a balance between precision and recall, taking both false positives and false negatives into account."
   ]
  },
  {
   "cell_type": "code",
   "execution_count": 329,
   "metadata": {},
   "outputs": [
    {
     "name": "stdout",
     "output_type": "stream",
     "text": [
      "Accuracy of the model on the test images: 98.57%\n"
     ]
    }
   ],
   "source": [
    "model.eval()\n",
    "\n",
    "# Track the number of correct predictions and total predictions\n",
    "correct = 0\n",
    "total = 0\n",
    "\n",
    "with torch.no_grad():\n",
    "    for images, labels in testloader:\n",
    "        images, labels = images.to(device), labels.to(device)\n",
    "        outputs = model(images)\n",
    "\n",
    "        # Get the predicted class with the highest score\n",
    "        _, predicted = torch.max(outputs.data, 1)\n",
    "\n",
    "        # Update the correct predictions and total count\n",
    "        total += labels.size(0)\n",
    "        correct += (predicted == labels).sum().item()\n",
    "\n",
    "# Calculate the accuracy\n",
    "accuracy = 100 * correct / total\n",
    "print(f'Accuracy of the model on the test images: {accuracy:.2f}%')"
   ]
  },
  {
   "cell_type": "code",
   "execution_count": 330,
   "metadata": {},
   "outputs": [
    {
     "name": "stdout",
     "output_type": "stream",
     "text": [
      "Precision: 98.57%, Recall: 98.56%, F1 Score: 98.56%\n"
     ]
    }
   ],
   "source": [
    "all_predictions = []\n",
    "all_labels = []\n",
    "\n",
    "with torch.no_grad():\n",
    "    for images, labels in testloader:\n",
    "        images, labels = images.to(device), labels.to(device)\n",
    "        outputs = model(images)\n",
    "        _, predicted = torch.max(outputs.data, 1)\n",
    "\n",
    "        # In case of using GPU, move predictions and labels back to CPU\n",
    "        all_predictions.extend(predicted.cpu().numpy())\n",
    "        all_labels.extend(labels.cpu().numpy())\n",
    "\n",
    "# Calculate precision, recall, and F1 score\n",
    "precision = 100 * precision_score(all_labels, all_predictions, average='macro')\n",
    "recall = 100 *recall_score(all_labels, all_predictions, average='macro')\n",
    "f1 = 100* f1_score(all_labels, all_predictions, average='macro')\n",
    "\n",
    "print(f'Precision: {precision:.2f}%, Recall: {recall:.2f}%, F1 Score: {f1:.2f}%')"
   ]
  },
  {
   "cell_type": "markdown",
   "metadata": {},
   "source": [
    "<font size=\"6\">Run complete </font>"
   ]
  },
  {
   "cell_type": "code",
   "execution_count": 331,
   "metadata": {},
   "outputs": [],
   "source": [
    "stop_time = time.time()\n",
    "run_duration = stop_time - start_time"
   ]
  },
  {
   "cell_type": "markdown",
   "metadata": {},
   "source": [
    "## Finishing work"
   ]
  },
  {
   "cell_type": "markdown",
   "metadata": {},
   "source": [
    "<font size=\"6\">Function to visualize incorrect indices</font>"
   ]
  },
  {
   "cell_type": "code",
   "execution_count": 332,
   "metadata": {},
   "outputs": [
    {
     "name": "stdout",
     "output_type": "stream",
     "text": [
      "Number of incorrect predictions: 143\n",
      "Here are some examples: \n"
     ]
    },
    {
     "data": {
      "image/png": "[encoded data removed]",
      "text/plain": [
       "<Figure size 1200x500 with 14 Axes>"
      ]
     },
     "metadata": {},
     "output_type": "display_data"
    }
   ],
   "source": [
    "execute_this_cell = True\n",
    "if not execute_this_cell:\n",
    "    pass\n",
    "\n",
    "else:\n",
    "    incorrect_indices = np.where(np.array(all_predictions) != np.array(all_labels))[0]\n",
    "\n",
    "    def visualize_incorrect_predictions(incorrect_indices, num_rows=2, num_cols=5):\n",
    "        grid_width = 12\n",
    "        grid_height = 5\n",
    "        fig, axes = plt.subplots(num_rows, num_cols, figsize=(grid_width, grid_height))\n",
    "        axes = axes.flatten()\n",
    "        for i, ax in enumerate(axes):\n",
    "            if i < len(incorrect_indices):\n",
    "                idx = incorrect_indices[i]\n",
    "                image, true_label, predicted_label = testset[idx][0], all_labels[idx], all_predictions[idx]\n",
    "                ax.imshow(image.squeeze(), cmap='gray')\n",
    "                ax.set_title(f'True: {true_label}, Pred: {predicted_label}')\n",
    "                ax.axis('off')\n",
    "        plt.tight_layout()\n",
    "        plt.show()\n",
    "\n",
    "    print(f'Number of incorrect predictions: {len(incorrect_indices)}')\n",
    "    print(f\"Here are some examples: \")\n",
    "\n",
    "    #Assuming incorrect_indices, show the first 14 incorrect_indices\n",
    "    visualize_incorrect_predictions(incorrect_indices[:14], num_rows=2, num_cols=7)"
   ]
  },
  {
   "cell_type": "markdown",
   "metadata": {},
   "source": [
    "Check if accuracy has improved since last run"
   ]
  },
  {
   "cell_type": "code",
   "execution_count": 333,
   "metadata": {},
   "outputs": [],
   "source": [
    "improvement = accuracy > accuracy_last_run"
   ]
  },
  {
   "cell_type": "markdown",
   "metadata": {},
   "source": [
    "Saving the model for continuous training"
   ]
  },
  {
   "cell_type": "code",
   "execution_count": 334,
   "metadata": {},
   "outputs": [],
   "source": [
    "if early_stopping_triggered == False:\n",
    "    checkpoint = {\n",
    "        'run': current_run,\n",
    "        'num_of_epochs': num_epochs,\n",
    "        'model_state_dict': model.state_dict(),\n",
    "        'optimizer_state_dict': optimizer.state_dict(),\n",
    "        'accuracy': accuracy,\n",
    "        'training_loss': avg_train_loss,\n",
    "        'validation_loss': avg_val_loss,\n",
    "        'best_validation_loss': best_val_loss,\n",
    "        'run_duration': run_duration,\n",
    "        'improvement': improvement\n",
    "        }\n",
    "\n",
    "    torch.save(checkpoint, checkpoint_path)\n"
   ]
  },
  {
   "cell_type": "markdown",
   "metadata": {},
   "source": [
    "Saving data for statistics"
   ]
  },
  {
   "cell_type": "code",
   "execution_count": 335,
   "metadata": {},
   "outputs": [],
   "source": [
    "def save_metrics_csv(current_run, num_epochs, precision, recall, f1, accuracy, avg_val_loss, best_val_loss, run_duration, improvement):\n",
    "    # Check if the file exists to write headers only once\n",
    "    file_exists = os.path.isfile(metrics_csv_path)\n",
    "\n",
    "    with open(metrics_csv_path, 'a', newline='') as csvfile:\n",
    "        fieldnames = ['Run', 'Epochs', 'Precision', 'Recall', 'F1 Score', 'Accuracy', 'Avg. Val. Loss', 'Best Val. Loss', 'Run Duration', 'Improvement']\n",
    "        writer = csv.DictWriter(csvfile, fieldnames=fieldnames)\n",
    "\n",
    "        if not file_exists:\n",
    "            writer.writeheader()  # Write the header only if the file is new\n",
    "\n",
    "        writer.writerow({\n",
    "            'Run': current_run,\n",
    "            'Epochs': num_epochs,\n",
    "            'Precision': f'{precision:.2f}%',\n",
    "            'Recall': f'{recall:.2f}%',\n",
    "            'F1 Score': f'{f1:.2f}%',\n",
    "            'Accuracy': f'{accuracy:.2f}%',\n",
    "            'Avg. Val. Loss': f'{avg_val_loss}',\n",
    "            'Best Val. Loss': f'{best_val_loss}',\n",
    "            'Run Duration': f'{run_duration:.2f}s',\n",
    "            'Improvement': improvement\n",
    "        })\n",
    "\n",
    "save_metrics_csv(current_run, num_epochs, precision, recall, f1, accuracy, avg_val_loss, best_val_loss, run_duration, improvement)\n"
   ]
  },
  {
   "cell_type": "markdown",
   "metadata": {},
   "source": [
    "## Showing statistics"
   ]
  },
  {
   "cell_type": "code",
   "execution_count": 336,
   "metadata": {},
   "outputs": [],
   "source": [
    "def show_model():\n",
    "    print(f\"Optimizer: {optimizer_type}\\n\"\n",
    "          f\"Learning rate: {learning_rate}\\n\"\n",
    "          f\"Batch size: {batch_size}\\n\"\n",
    "          f\"Loss type: {loss_type}\\n\"\n",
    "          f\"Input channels: {input_channels}\\n\"\n",
    "          f\"Convolutional filters: {conv_filters}\\n\"\n",
    "          f\"Kernel size: {kernel_size}\\n\"\n",
    "          f\"(FC) Neurons: {fc_neurons}\\n\"\n",
    "          f\"Output classes: {output_classes}\\n\")"
   ]
  },
  {
   "cell_type": "code",
   "execution_count": 337,
   "metadata": {},
   "outputs": [
    {
     "name": "stdout",
     "output_type": "stream",
     "text": [
      "Optimizer: Adam\n",
      "Learning rate: 0.001\n",
      "Batch size: 64\n",
      "Loss type: CrossEntropyLoss()\n",
      "Input channels: 1\n",
      "Convolutional filters: 16\n",
      "Kernel size: 3\n",
      "(FC) Neurons: 64\n",
      "Output classes: 10\n",
      "\n",
      "    Run  Epochs Precision  Recall F1 Score Accuracy  Avg. Val. Loss  Best Val. Loss Run Duration  Improvement\n",
      "0     1       1    95.93%  95.95%   95.93%   95.97%        0.207719        0.207719       23.18s         True\n",
      "1     2       1    97.18%  97.17%   97.17%   97.18%        0.137978        0.137978       23.33s         True\n",
      "2     3       1    97.39%  97.34%   97.35%   97.36%        0.112137        0.112137       27.60s         True\n",
      "3     4       1    97.59%  97.61%   97.60%   97.61%        0.101941        0.101941       28.18s         True\n",
      "4     5       1    97.83%  97.81%   97.81%   97.82%        0.082547        0.082547       27.88s         True\n",
      "5     6       1    98.05%  98.05%   98.04%   98.05%        0.082437        0.082437       26.01s         True\n",
      "6     7       1    98.02%  98.03%   98.02%   98.03%        0.066000        0.066000       27.14s        False\n",
      "7     8       1    98.21%  98.22%   98.21%   98.22%        0.072870        0.066000       26.62s         True\n",
      "8     9       1    98.23%  98.23%   98.23%   98.23%        0.063849        0.063849       27.53s         True\n",
      "9    10       1    98.16%  98.14%   98.14%   98.15%        0.063652        0.063652       28.74s        False\n",
      "10   11       1    98.33%  98.32%   98.33%   98.33%        0.055115        0.055115       29.30s         True\n",
      "11   12       1    98.37%  98.34%   98.36%   98.36%        0.050365        0.050365       29.24s         True\n",
      "12   13       1    98.36%  98.35%   98.35%   98.36%        0.047733        0.047733       28.36s        False\n",
      "13   14       1    98.46%  98.47%   98.46%   98.47%        0.051274        0.047733       28.51s         True\n",
      "14   15       1    98.42%  98.41%   98.41%   98.42%        0.041255        0.041255       30.92s        False\n",
      "15   16       1    98.47%  98.48%   98.47%   98.48%        0.040686        0.040686       29.27s         True\n",
      "16   17       1    98.45%  98.46%   98.45%   98.46%        0.041528        0.040686       29.10s        False\n",
      "17   18       1    98.67%  98.64%   98.65%   98.66%        0.038641        0.038641       28.98s         True\n",
      "18   19       1    98.59%  98.59%   98.58%   98.59%        0.041294        0.038641       25.88s        False\n",
      "19   20       1    98.55%  98.51%   98.53%   98.53%        0.034639        0.034639       27.66s        False\n",
      "20   21       1    98.56%  98.55%   98.55%   98.56%        0.038882        0.034639       27.05s         True\n",
      "21   22       1    98.53%  98.52%   98.52%   98.53%        0.037011        0.034639       27.70s        False\n",
      "22   23       1    98.61%  98.60%   98.60%   98.61%        0.030370        0.030370       27.11s         True\n",
      "23   24       1    98.64%  98.62%   98.62%   98.63%        0.027474        0.027474       28.95s         True\n",
      "24   25       1    98.57%  98.56%   98.56%   98.57%        0.030554        0.027474       28.07s        False\n",
      "\n",
      "[Run with the best accuracy]\n",
      "    Run  Epochs Precision  Recall F1 Score  Accuracy  Avg. Val. Loss  Best Val. Loss Run Duration  Improvement\n",
      "17   18       1    98.67%  98.64%   98.65%     98.66        0.038641        0.038641       28.98s         True\n"
     ]
    }
   ],
   "source": [
    "\n",
    "pd.set_option('display.max_rows', 1000)\n",
    "pd.set_option('display.max_columns', 1000)\n",
    "pd.set_option('display.width', 1000)\n",
    "df = pd.read_csv(metrics_csv_path)\n",
    "\n",
    "df['Accuracy'] = df['Accuracy'].str.rstrip('%').astype('float')\n",
    "idx_best_accuracy = df['Accuracy'].idxmax()\n",
    "best_run = df.iloc[[idx_best_accuracy]]\n",
    "df['Accuracy'] = df['Accuracy'].apply(lambda x: f\"{x}%\")\n",
    "show_model()\n",
    "print(df)\n",
    "print(\"\\n[Run with the best accuracy]\")\n",
    "print(best_run)"
   ]
  },
  {
   "cell_type": "markdown",
   "metadata": {},
   "source": [
    "## Presenting own images to the model"
   ]
  },
  {
   "cell_type": "code",
   "execution_count": 338,
   "metadata": {},
   "outputs": [],
   "source": [
    "from PIL import Image\n",
    "from torch.utils.data import Dataset, DataLoader\n",
    "\n",
    "# didgit_folder = 'my_own_digits/regular'\n",
    "# didgit_folder = 'my_own_digits/with_padding'\n",
    "# didgit_folder = 'my_own_digits/transparent'\n",
    "didgit_folder = 'my_own_digits/white_background'\n",
    "\n",
    "class CustomDigitDataset(Dataset):\n",
    "    def __init__(self, root_dir, transform=None):\n",
    "        self.root_dir = root_dir\n",
    "        self.transform = transform\n",
    "        self.image_files = [f for f in os.listdir(root_dir) if os.path.isfile(os.path.join(root_dir, f))]\n",
    "\n",
    "    def __len__(self):\n",
    "        return len(self.image_files)\n",
    "\n",
    "    def __getitem__(self, idx):\n",
    "        img_name = os.path.join(self.root_dir, self.image_files[idx])\n",
    "        image = Image.open(img_name)\n",
    "\n",
    "        if self.transform:\n",
    "            image = self.transform(image)\n",
    "\n",
    "        return image\n",
    "\n",
    "transform = transforms.Compose([\n",
    "    transforms.Grayscale(),  # Convert to grayscale if the images are in RGB\n",
    "    transforms.Resize((28, 28)),  # Resize images to the same size as the training data\n",
    "    transforms.ToTensor(),  # Convert images to tensor\n",
    "    transforms.Lambda(lambda x: 1.0 - x),\n",
    "    transforms.Normalize((0.5,), (0.5,))  # Normalize images\n",
    "])\n",
    "\n",
    "#Initialize dataset\n",
    "dataset = CustomDigitDataset(root_dir= didgit_folder, transform=transform)\n",
    "\n",
    "# Create DataLoader\n",
    "data_loader = DataLoader(dataset, batch_size=10, shuffle=False)\n"
   ]
  },
  {
   "cell_type": "code",
   "execution_count": 339,
   "metadata": {},
   "outputs": [
    {
     "name": "stdout",
     "output_type": "stream",
     "text": [
      "Predictions: [1, 1, 1, 1, 1, 1, 5, 7, 1, 7]\n"
     ]
    },
    {
     "data": {
      "image/png": "[encoded data removed]",
      "text/plain": [
       "<Figure size 800x500 with 10 Axes>"
      ]
     },
     "metadata": {},
     "output_type": "display_data"
    }
   ],
   "source": [
    "model.eval()\n",
    "\n",
    "predictions = []\n",
    "\n",
    "with torch.no_grad():\n",
    "    for images in data_loader:\n",
    "        images = images.to(device)\n",
    "        outputs = model(images)\n",
    "        _, predicted = torch.max(outputs, 1)\n",
    "        predictions.extend(predicted.cpu().numpy())\n",
    "\n",
    "# Function to visualize images and predictions\n",
    "def visualize_predictions(images, predictions, num_rows=2, num_cols=5):\n",
    "    fig, axes = plt.subplots(num_rows, num_cols, figsize=(8, 5))\n",
    "    axes = axes.flatten()\n",
    "\n",
    "    for i, ax in enumerate(axes):\n",
    "        if i < len(images):\n",
    "            img = images[i].squeeze()  # Remove channel dimension if it's there\n",
    "            ax.imshow(img, cmap='gray')\n",
    "            ax.set_title(f'Predicted: {predictions[i]}')  # Show predicted label\n",
    "            ax.axis('off')\n",
    "        else:\n",
    "            ax.axis('off')  # Hide axes if there are no more images to display\n",
    "    print(\"Predictions:\", predictions)\n",
    "    plt.tight_layout()\n",
    "    plt.show()\n",
    "\n",
    "# Visualize the first batch of custom images with predictions\n",
    "for images in data_loader:\n",
    "    # Move images to CPU and convert to numpy for visualization\n",
    "    images_np = images.numpy()\n",
    "\n",
    "    # Visualize the images with predictions\n",
    "    visualize_predictions(images_np, predictions[:len(images_np)], num_rows=2, num_cols=5)\n",
    "\n",
    "    break  # We break here to only visualize one batch of images"
   ]
  },
  {
   "cell_type": "code",
   "execution_count": 340,
   "metadata": {},
   "outputs": [],
   "source": [
    "# Calculate accuracy\n",
    "correct_answers = [0, 1, 2, 3, 4, 5, 6, 7, 8, 9]\n",
    "correct_count = sum(pred == correct for pred, correct in zip(predictions, correct_answers))\n",
    "accuracy = correct_count / len(correct_answers) * 100\n",
    "\n",
    "# Save predictions with accuracy\n",
    "with open(f'predictions/own_digits_predictions{model_specifics}.txt', 'a') as f:\n",
    "    f.write(f\"[Run: {current_run}] Predictions: {predictions}, Accuracy: {accuracy:.2f}%\\n\")"
   ]
  },
  {
   "cell_type": "code",
   "execution_count": 341,
   "metadata": {},
   "outputs": [
    {
     "name": "stdout",
     "output_type": "stream",
     "text": [
      "[Run: 1 | Number of epochs: 1 | Accuracy: 40.00%]\n",
      "Correct answer: [0, 1, 2, 3, 4, 5, 6, 7, 8, 9]\n",
      "Predictions:    [0, 1, 2, 2, 1, 5, 5, 1, 3, 7] \n",
      "\n",
      "[Run: 2 | Number of epochs: 1 | Accuracy: 30.00%]\n",
      "Correct answer: [0, 1, 2, 3, 4, 5, 6, 7, 8, 9]\n",
      "Predictions:    [0, 1, 1, 1, 1, 5, 5, 1, 1, 7] \n",
      "\n",
      "[Run: 3 | Number of epochs: 1 | Accuracy: 40.00%]\n",
      "Correct answer: [0, 1, 2, 3, 4, 5, 6, 7, 8, 9]\n",
      "Predictions:    [0, 1, 2, 1, 1, 5, 5, 1, 3, 7] \n",
      "\n",
      "[Run: 4 | Number of epochs: 1 | Accuracy: 30.00%]\n",
      "Correct answer: [0, 1, 2, 3, 4, 5, 6, 7, 8, 9]\n",
      "Predictions:    [0, 1, 1, 1, 1, 5, 5, 1, 5, 7] \n",
      "\n",
      "[Run: 5 | Number of epochs: 1 | Accuracy: 40.00%]\n",
      "Correct answer: [0, 1, 2, 3, 4, 5, 6, 7, 8, 9]\n",
      "Predictions:    [1, 1, 2, 2, 1, 5, 5, 7, 1, 7] \n",
      "\n",
      "[Run: 6 | Number of epochs: 1 | Accuracy: 30.00%]\n",
      "Correct answer: [0, 1, 2, 3, 4, 5, 6, 7, 8, 9]\n",
      "Predictions:    [1, 1, 2, 2, 1, 5, 5, 1, 1, 7] \n",
      "\n",
      "[Run: 7 | Number of epochs: 1 | Accuracy: 30.00%]\n",
      "Correct answer: [0, 1, 2, 3, 4, 5, 6, 7, 8, 9]\n",
      "Predictions:    [1, 1, 2, 1, 1, 5, 5, 1, 7, 7] \n",
      "\n",
      "[Run: 8 | Number of epochs: 1 | Accuracy: 40.00%]\n",
      "Correct answer: [0, 1, 2, 3, 4, 5, 6, 7, 8, 9]\n",
      "Predictions:    [1, 1, 2, 2, 1, 5, 5, 7, 1, 7] \n",
      "\n",
      "[Run: 9 | Number of epochs: 1 | Accuracy: 30.00%]\n",
      "Correct answer: [0, 1, 2, 3, 4, 5, 6, 7, 8, 9]\n",
      "Predictions:    [1, 1, 2, 1, 1, 1, 1, 7, 7, 7] \n",
      "\n",
      "[Run: 10 | Number of epochs: 1 | Accuracy: 40.00%]\n",
      "Correct answer: [0, 1, 2, 3, 4, 5, 6, 7, 8, 9]\n",
      "Predictions:    [1, 1, 2, 1, 1, 1, 6, 7, 1, 7] \n",
      "\n",
      "[Run: 11 | Number of epochs: 1 | Accuracy: 30.00%]\n",
      "Correct answer: [0, 1, 2, 3, 4, 5, 6, 7, 8, 9]\n",
      "Predictions:    [1, 1, 2, 1, 1, 1, 1, 7, 1, 7] \n",
      "\n",
      "[Run: 12 | Number of epochs: 1 | Accuracy: 20.00%]\n",
      "Correct answer: [0, 1, 2, 3, 4, 5, 6, 7, 8, 9]\n",
      "Predictions:    [1, 1, 2, 1, 1, 1, 1, 1, 1, 7] \n",
      "\n",
      "[Run: 13 | Number of epochs: 1 | Accuracy: 10.00%]\n",
      "Correct answer: [0, 1, 2, 3, 4, 5, 6, 7, 8, 9]\n",
      "Predictions:    [1, 1, 1, 1, 1, 1, 1, 1, 1, 7] \n",
      "\n",
      "[Run: 14 | Number of epochs: 1 | Accuracy: 20.00%]\n",
      "Correct answer: [0, 1, 2, 3, 4, 5, 6, 7, 8, 9]\n",
      "Predictions:    [1, 1, 1, 1, 1, 1, 5, 7, 7, 7] \n",
      "\n",
      "[Run: 15 | Number of epochs: 1 | Accuracy: 10.00%]\n",
      "Correct answer: [0, 1, 2, 3, 4, 5, 6, 7, 8, 9]\n",
      "Predictions:    [1, 1, 1, 1, 1, 1, 5, 1, 1, 7] \n",
      "\n",
      "[Run: 16 | Number of epochs: 1 | Accuracy: 20.00%]\n",
      "Correct answer: [0, 1, 2, 3, 4, 5, 6, 7, 8, 9]\n",
      "Predictions:    [1, 1, 1, 1, 1, 5, 5, 1, 1, 7] \n",
      "\n",
      "[Run: 17 | Number of epochs: 1 | Accuracy: 10.00%]\n",
      "Correct answer: [0, 1, 2, 3, 4, 5, 6, 7, 8, 9]\n",
      "Predictions:    [1, 1, 1, 1, 1, 1, 5, 1, 1, 7] \n",
      "\n",
      "[Run: 18 | Number of epochs: 1 | Accuracy: 20.00%]\n",
      "Correct answer: [0, 1, 2, 3, 4, 5, 6, 7, 8, 9]\n",
      "Predictions:    [1, 1, 2, 1, 1, 1, 5, 1, 1, 7] \n",
      "\n",
      "[Run: 19 | Number of epochs: 1 | Accuracy: 20.00%]\n",
      "Correct answer: [0, 1, 2, 3, 4, 5, 6, 7, 8, 9]\n",
      "Predictions:    [1, 1, 2, 1, 1, 1, 5, 1, 1, 7] \n",
      "\n",
      "[Run: 20 | Number of epochs: 1 | Accuracy: 10.00%]\n",
      "Correct answer: [0, 1, 2, 3, 4, 5, 6, 7, 8, 9]\n",
      "Predictions:    [1, 1, 1, 1, 1, 1, 5, 1, 1, 7] \n",
      "\n",
      "[Run: 21 | Number of epochs: 1 | Accuracy: 10.00%]\n",
      "Correct answer: [0, 1, 2, 3, 4, 5, 6, 7, 8, 9]\n",
      "Predictions:    [1, 1, 1, 1, 1, 1, 5, 1, 1, 1] \n",
      "\n",
      "[Run: 22 | Number of epochs: 1 | Accuracy: 20.00%]\n",
      "Correct answer: [0, 1, 2, 3, 4, 5, 6, 7, 8, 9]\n",
      "Predictions:    [5, 1, 1, 1, 1, 5, 5, 1, 1, 7] \n",
      "\n",
      "[Run: 23 | Number of epochs: 1 | Accuracy: 20.00%]\n",
      "Correct answer: [0, 1, 2, 3, 4, 5, 6, 7, 8, 9]\n",
      "Predictions:    [1, 1, 1, 1, 1, 1, 5, 7, 1, 7] \n",
      "\n",
      "[Run: 24 | Number of epochs: 1 | Accuracy: 30.00%]\n",
      "Correct answer: [0, 1, 2, 3, 4, 5, 6, 7, 8, 9]\n",
      "Predictions:    [1, 1, 1, 1, 1, 5, 5, 7, 1, 7] \n",
      "\n",
      "[Run: 25 | Number of epochs: 1 | Accuracy: 20.00%]\n",
      "Correct answer: [0, 1, 2, 3, 4, 5, 6, 7, 8, 9]\n",
      "Predictions:    [1, 1, 1, 1, 1, 1, 5, 7, 1, 7] \n",
      "\n"
     ]
    }
   ],
   "source": [
    "with open(f'predictions/own_digits_predictions{model_specifics}.txt', 'r') as f:\n",
    "    for line in f:\n",
    "        # Splitting the line to extract predictions and accuracy\n",
    "        loaded_run = line.split(']')[0].split('[Run: ')[1]\n",
    "        parts = line.strip().split('Predictions: ')\n",
    "        predictions_part = parts[1].split(', Accuracy: ')[0]\n",
    "        accuracy_part = parts[1].split(', Accuracy: ')[1]\n",
    "\n",
    "        # Processing the predictions\n",
    "        loaded_predictions = list(map(int, predictions_part.replace('[', '').replace(']', '').split(', ')))\n",
    "\n",
    "        # Extracting the accuracy\n",
    "        loaded_accuracy = float(accuracy_part.replace('%', ''))\n",
    "\n",
    "        print(f\"[Run: {loaded_run} | Number of epochs: {num_epochs} | Accuracy: {loaded_accuracy:.2f}%]\")\n",
    "        print(f\"Correct answer: {correct_answers}\")\n",
    "        print(f\"Predictions:    {loaded_predictions} \\n\")\n"
   ]
  },
  {
   "cell_type": "markdown",
   "metadata": {},
   "source": [
    "## Conclusion"
   ]
  },
  {
   "cell_type": "markdown",
   "metadata": {},
   "source": [
    "The CNN performs very well on the MNIST dataset. The accuracy is for most of the time above 95%.\n",
    "\n",
    "I've added my own 0-9 digits [image 1] and the results have been poor, not going over 40% accuracy once.\n",
    "\n",
    "Consulting the web, I've found some possible answers to why that is and what sounded reasonable is that it can be quite picky when it comes to add your own images due to correct scaling, padding etc. \n",
    "\n",
    "I have tried to mimic the images from the MNIST dataset [image 2] as well as a could but, there might be more to it.\n",
    "\n",
    "Since it never got over 40% accuracy even though I've tried it a lot of times, it points to that the model actually is learning but not reading the images right.\n",
    "If it is just \"guessing randomly\" it would have (most likely) at some point got a higher accuracy score than 40%.\n",
    "It also tends to predict some digits right and even though it is far from perfect there is still some consistency to the predictions [image 3]. "
   ]
  },
  {
   "attachments": {
    "image.png": {
     "image/png": "[encoded data removed]"
    }
   },
   "cell_type": "markdown",
   "metadata": {},
   "source": [
    "1. Own digits <br>\n",
    "![image.png](attachment:image.png) "
   ]
  },
  {
   "attachments": {
    "image.png": {
     "image/png": "[encoded data removed]"
    }
   },
   "cell_type": "markdown",
   "metadata": {},
   "source": [
    "2. MNIST dataset <br>![image.png](attachment:image.png)"
   ]
  },
  {
   "attachments": {
    "image.png": {
     "image/png": "[encoded data removed]"
    }
   },
   "cell_type": "markdown",
   "metadata": {},
   "source": [
    "3. Predictions of own digits Target[0,1,2,3,4,5,6,7,8,9]<br>\n",
    "![image.png](attachment:image.png)"
   ]
  }
 ],
 "metadata": {
  "kernelspec": {
   "display_name": "NumberRecognition",
   "language": "python",
   "name": "python3"
  },
  "language_info": {
   "codemirror_mode": {
    "name": "ipython",
    "version": 3
   },
   "file_extension": ".py",
   "mimetype": "text/x-python",
   "name": "python",
   "nbconvert_exporter": "python",
   "pygments_lexer": "ipython3",
   "version": "3.12.1"
  }
 },
 "nbformat": 4,
 "nbformat_minor": 2
}
